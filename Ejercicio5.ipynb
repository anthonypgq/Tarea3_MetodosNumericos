{
  "nbformat": 4,
  "nbformat_minor": 0,
  "metadata": {
    "colab": {
      "provenance": []
    },
    "kernelspec": {
      "name": "python3",
      "display_name": "Python 3"
    },
    "language_info": {
      "name": "python"
    }
  },
  "cells": [
    {
      "cell_type": "code",
      "execution_count": 28,
      "metadata": {
        "id": "9k1jybwfxbu5",
        "colab": {
          "base_uri": "https://localhost:8080/"
        },
        "outputId": "01284bff-3723-4ba4-b23f-e057b023bf10"
      },
      "outputs": [
        {
          "output_type": "stream",
          "name": "stdout",
          "text": [
            "Resultado básico: 185\n"
          ]
        }
      ],
      "source": [
        "def sum_expression_basic(a, b):\n",
        "    n = len(a)\n",
        "    result = 0\n",
        "    for i in range(n):\n",
        "        for j in range(i + 1):\n",
        "            result += a[i] * b[j]\n",
        "    return result\n",
        "\n",
        "# Listas dadas\n",
        "a = [1, 2, 3, 4]\n",
        "b = [5, 6, 7, 8]\n",
        "\n",
        "# Resultado usando el algoritmo básico\n",
        "print(\"Resultado básico:\", sum_expression_basic(a, b))\n",
        "\n"
      ]
    },
    {
      "cell_type": "code",
      "source": [
        "def sum_expression_optimized(a, b):\n",
        "    n = len(a)\n",
        "    result = 0\n",
        "    b_sum = 0\n",
        "    for i in range(n):\n",
        "        b_sum += b[i]\n",
        "        result += a[i] * b_sum\n",
        "    return result\n",
        "\n",
        "# Listas dadas\n",
        "a = [1, 2, 3, 4]\n",
        "b = [5, 6, 7, 8]\n",
        "\n",
        "# Resultado usando el algoritmo optimizado\n",
        "print(\"Resultado optimizado:\", sum_expression_optimized(a, b))\n",
        "\n"
      ],
      "metadata": {
        "colab": {
          "base_uri": "https://localhost:8080/"
        },
        "id": "_d0sQLij34qw",
        "outputId": "948f9cbb-7a10-4638-9400-ba46258aace2"
      },
      "execution_count": 27,
      "outputs": [
        {
          "output_type": "stream",
          "name": "stdout",
          "text": [
            "Resultado optimizado: 185\n"
          ]
        }
      ]
    }
  ]
}