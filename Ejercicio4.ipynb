{
  "nbformat": 4,
  "nbformat_minor": 0,
  "metadata": {
    "colab": {
      "provenance": []
    },
    "kernelspec": {
      "name": "python3",
      "display_name": "Python 3"
    },
    "language_info": {
      "name": "python"
    }
  },
  "cells": [
    {
      "cell_type": "code",
      "execution_count": 14,
      "metadata": {
        "id": "9k1jybwfxbu5",
        "colab": {
          "base_uri": "https://localhost:8080/"
        },
        "outputId": "6f025870-a98b-42dd-c702-1679041eb602"
      },
      "outputs": [
        {
          "output_type": "stream",
          "name": "stdout",
          "text": [
            "Resultado del algoritmo 1: 0.0\n"
          ]
        }
      ],
      "source": [
        "def Algoritmo_1(lista):\n",
        "    multiplicacion = 0\n",
        "    for x in lista:\n",
        "        multiplicacion *= 1/(x**2)\n",
        "    return multiplicacion\n",
        "\n",
        "lista = [10, 9, 8, 7, 6, 5, 4, 3, 2, 1]\n",
        "print(\"Resultado del algoritmo 1:\", Algoritmo_1(lista))"
      ]
    },
    {
      "cell_type": "code",
      "source": [
        "def Algoritmo_2(lista):\n",
        "    multiplicacion = 1\n",
        "    for x in lista:\n",
        "        multiplicacion *= (1/x**2)\n",
        "    return multiplicacion\n",
        "\n",
        "lista = [10, 9, 8, 7, 6, 5, 4, 3, 2, 1]\n",
        "print(\"Resultado del algoritmo 2:\", Algoritmo_2(lista))"
      ],
      "metadata": {
        "colab": {
          "base_uri": "https://localhost:8080/"
        },
        "id": "_d0sQLij34qw",
        "outputId": "a512b3bb-caee-4a47-d0c1-d6fb2c2a0385"
      },
      "execution_count": 11,
      "outputs": [
        {
          "output_type": "stream",
          "name": "stdout",
          "text": [
            "Resultado del algoritmo 2: 7.594058428126622e-14\n"
          ]
        }
      ]
    },
    {
      "cell_type": "code",
      "source": [
        "def Algoritmo_3(lista):\n",
        "    multiplicacion = 1\n",
        "    for x in lista:\n",
        "        if x == 0:\n",
        "            multiplicacion = 0\n",
        "            return multiplicacion\n",
        "        multiplicacion *= (1/x**2)\n",
        "    return multiplicacion\n",
        "\n",
        "lista = [10, 9, 8, 7, 6, 5, 4, 3, 2, 1]\n",
        "print(\"Resultado del algoritmo 3:\", Algoritmo_3(lista))"
      ],
      "metadata": {
        "colab": {
          "base_uri": "https://localhost:8080/"
        },
        "id": "ykxi9TNe4CWS",
        "outputId": "be85368a-8adb-42dd-8928-36959752788b"
      },
      "execution_count": 10,
      "outputs": [
        {
          "output_type": "stream",
          "name": "stdout",
          "text": [
            "Resultado del algoritmo 3: 7.594058428126622e-14\n"
          ]
        }
      ]
    }
  ]
}