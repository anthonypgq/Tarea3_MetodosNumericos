{
  "nbformat": 4,
  "nbformat_minor": 0,
  "metadata": {
    "colab": {
      "provenance": []
    },
    "kernelspec": {
      "name": "python3",
      "display_name": "Python 3"
    },
    "language_info": {
      "name": "python"
    }
  },
  "cells": [
    {
      "cell_type": "code",
      "source": [
        "import math\n",
        "def arctanAprox(n):\n",
        "    sum = 0\n",
        "    for i in range(1,n+1):\n",
        "        num = (-1)**(i+1)\n",
        "        den = 2*i-1\n",
        "        sum += num/den\n",
        "    error = abs(4*sum-math.pi)\n",
        "    return error"
      ],
      "metadata": {
        "id": "uvU6nLJ1cC6Z"
      },
      "execution_count": 9,
      "outputs": []
    },
    {
      "cell_type": "code",
      "source": [
        "e1 = arctanAprox(10)\n",
        "print(\"El error absoluto es: \"+format(e1, \".1E\"))\n",
        "e2 = arctanAprox(100)\n",
        "print(\"El error absoluto es: \"+format(e2, \".1E\"))\n",
        "e3 = arctanAprox(1000)\n",
        "print(\"El error absoluto es: \"+format(e3, \".1E\"))"
      ],
      "metadata": {
        "colab": {
          "base_uri": "https://localhost:8080/"
        },
        "id": "Icmp5YaTcRgA",
        "outputId": "26082790-d545-45e7-b0a8-5e9f48f241aa"
      },
      "execution_count": 10,
      "outputs": [
        {
          "output_type": "stream",
          "name": "stdout",
          "text": [
            "El error absoluto es: 1.0E-01\n",
            "El error absoluto es: 1.0E-02\n",
            "El error absoluto es: 1.0E-03\n"
          ]
        }
      ]
    }
  ]
}