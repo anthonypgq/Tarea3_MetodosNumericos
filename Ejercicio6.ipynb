{
  "nbformat": 4,
  "nbformat_minor": 0,
  "metadata": {
    "colab": {
      "provenance": []
    },
    "kernelspec": {
      "name": "python3",
      "display_name": "Python 3"
    },
    "language_info": {
      "name": "python"
    }
  },
  "cells": [
    {
      "cell_type": "code",
      "execution_count": 1,
      "metadata": {
        "id": "9k1jybwfxbu5"
      },
      "outputs": [],
      "source": [
        "def sumarSerieInversa(n: int, x: float) -> float:\n",
        "    suma = 0\n",
        "    for i in range(n, 0, -1):\n",
        "        suma += x ** i\n",
        "    return suma\n"
      ]
    },
    {
      "cell_type": "code",
      "source": [
        "\n",
        "n = 5\n",
        "x = 2\n",
        "resultado = sumarSerieInversa(n, x)\n",
        "print(\"La suma de la serie en orden inverso es:\", resultado)"
      ],
      "metadata": {
        "colab": {
          "base_uri": "https://localhost:8080/"
        },
        "id": "XwDlsFTvxEOW",
        "outputId": "bb321dcd-f888-47dc-ab5b-0df208cbe9c5"
      },
      "execution_count": 2,
      "outputs": [
        {
          "output_type": "stream",
          "name": "stdout",
          "text": [
            "La suma de la serie en orden inverso es: 62\n"
          ]
        }
      ]
    }
  ]
}