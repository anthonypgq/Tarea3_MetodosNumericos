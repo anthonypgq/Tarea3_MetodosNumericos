{
  "nbformat": 4,
  "nbformat_minor": 0,
  "metadata": {
    "colab": {
      "provenance": []
    },
    "kernelspec": {
      "name": "python3",
      "display_name": "Python 3"
    },
    "language_info": {
      "name": "python"
    }
  },
  "cells": [
    {
      "cell_type": "code",
      "execution_count": 4,
      "metadata": {
        "id": "9k1jybwfxbu5"
      },
      "outputs": [],
      "source": [
        "def calcular_lado_izquierdo(n: int, x: int) -> float:\n",
        "    serie = [0]\n",
        "    potencias_dos = [1]\n",
        "    serie_potencias = [1]\n",
        "    resultado = 0\n",
        "\n",
        "    for i in range(1, n):\n",
        "        numerador = potencias_dos[-1] * (x ** serie[-1]) - (2 ** i) * (x ** serie_potencias[-1])\n",
        "        denominador = 1 - x ** potencias_dos[-1] + x ** (2 ** i)\n",
        "        resultado += numerador / denominador\n",
        "\n",
        "        serie.append(serie[-1] + i)\n",
        "        potencias_dos.append(potencias_dos[-1] * 2)\n",
        "        serie_potencias.append(serie_potencias[-1] + (2 ** i))\n",
        "\n",
        "    return resultado\n",
        "\n"
      ]
    },
    {
      "cell_type": "code",
      "source": [
        "def calcular_lado_derecho(x: int) -> float:\n",
        "    resultado = (1 + 2 * x) / (1 + x + x ** 2)\n",
        "    return resultado\n"
      ],
      "metadata": {
        "id": "XwDlsFTvxEOW"
      },
      "execution_count": 5,
      "outputs": []
    },
    {
      "cell_type": "code",
      "source": [
        "\n",
        "p1 = calcular_lado_derecho(0.25)\n",
        "p1\n",
        "\n",
        "p2 = calcular_lado_izquierdo(4,0.25)\n",
        "p2"
      ],
      "metadata": {
        "colab": {
          "base_uri": "https://localhost:8080/"
        },
        "id": "OrA5uluU08bu",
        "outputId": "8bc7e50c-6f7a-418a-bd49-e3fc9e28a428"
      },
      "execution_count": 13,
      "outputs": [
        {
          "output_type": "execute_result",
          "data": {
            "text/plain": [
              "1.1423688541567898"
            ]
          },
          "metadata": {},
          "execution_count": 13
        }
      ]
    },
    {
      "cell_type": "code",
      "source": [
        "error = abs((p1-p2)/p1)\n",
        "print(error)\n",
        "errorabs= abs(p1-p2)\n",
        "print(errorabs)"
      ],
      "metadata": {
        "colab": {
          "base_uri": "https://localhost:8080/"
        },
        "id": "bjIuNSQk1ffm",
        "outputId": "4bf7bcfd-3cf4-43a3-f9d8-3ec3f09196d0"
      },
      "execution_count": 9,
      "outputs": [
        {
          "output_type": "stream",
          "name": "stdout",
          "text": [
            "0.00042725261280887605\n",
            "0.0004882887003530012\n"
          ]
        }
      ]
    }
  ]
}