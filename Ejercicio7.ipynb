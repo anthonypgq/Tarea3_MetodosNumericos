{
  "nbformat": 4,
  "nbformat_minor": 0,
  "metadata": {
    "colab": {
      "provenance": []
    },
    "kernelspec": {
      "name": "python3",
      "display_name": "Python 3"
    },
    "language_info": {
      "name": "python"
    }
  },
  "cells": [
    {
      "cell_type": "code",
      "source": [],
      "metadata": {
        "id": "76H_dZOKKVhK"
      },
      "execution_count": null,
      "outputs": []
    },
    {
      "cell_type": "code",
      "execution_count": null,
      "metadata": {
        "colab": {
          "base_uri": "https://localhost:8080/"
        },
        "id": "skyCBZSo5TEt",
        "outputId": "16bb7d9e-40c7-49a1-88dc-114393788cad"
      },
      "outputs": [
        {
          "output_type": "stream",
          "name": "stdout",
          "text": [
            "Raices diferentes: (-2.0, -4.0)\n",
            "Raíces iguales:  (2.0, 2.0)\n",
            "Raice complejaz:  ((-0.25+0.9682458365518543j), (-0.25-0.9682458365518543j))\n"
          ]
        }
      ],
      "source": [
        "import math\n",
        "def ec_2do_grado(a, b, c):\n",
        "  discriminante = b**2 - 4*a*c\n",
        "  if discriminante > 0:\n",
        "    # Dos raices diferentes\n",
        "    x1 = (-b + (math.sqrt(discriminante)))/2*a\n",
        "    x2 = (-b - (math.sqrt(discriminante)))/2*a\n",
        "\n",
        "    return x1, x2\n",
        "  elif discriminante == 0:\n",
        "    # Dos raices iguales\n",
        "    x = -b / (2*a)\n",
        "\n",
        "    return x, x\n",
        "  else:\n",
        "    # Raices complejas\n",
        "    parte_real = -b / (2*a)\n",
        "    parte_imaginaria = math.sqrt(abs(discriminante)) / (2*a)\n",
        "\n",
        "    x1 = complex(parte_real, parte_imaginaria)\n",
        "    x2 = complex(parte_real, -parte_imaginaria)\n",
        "\n",
        "    return x1, x2\n",
        "\n",
        "ec1 = ec_2do_grado(1, 6, 8)\n",
        "print('Raices diferentes:', ec1)\n",
        "ec2 = ec_2do_grado(1, -4, 4)\n",
        "print('Raíces iguales: ', ec2)\n",
        "ec3 = ec_2do_grado(2, 1, 2)\n",
        "print('Raice complejaz: ', ec3)"
      ]
    }
  ]
}