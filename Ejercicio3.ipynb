{
  "nbformat": 4,
  "nbformat_minor": 0,
  "metadata": {
    "colab": {
      "provenance": []
    },
    "kernelspec": {
      "name": "python3",
      "display_name": "Python 3"
    },
    "language_info": {
      "name": "python"
    }
  },
  "cells": [
    {
      "cell_type": "code",
      "execution_count": 4,
      "metadata": {
        "id": "9k1jybwfxbu5",
        "colab": {
          "base_uri": "https://localhost:8080/"
        },
        "outputId": "61c47adf-cabe-4534-d2e6-55b9bb908749"
      },
      "outputs": [
        {
          "output_type": "stream",
          "name": "stdout",
          "text": [
            "Se necesitan al menos 2 términos para aproximar π dentro de 0.001.\n",
            "π aproximado con 2 términos: 3.1405970293260603\n",
            "Diferencia con el valor real de π: 0.0009956242637327861\n"
          ]
        }
      ],
      "source": [
        "import math\n",
        "\n",
        "def arctan_taylor(x, terms):\n",
        "    arctan_sum = 0\n",
        "    for n in range(terms):\n",
        "        sign = (-1) ** n\n",
        "        numerator = x ** (2 * n + 1)\n",
        "        denominator = 2 * n + 1\n",
        "        term = sign * numerator / denominator\n",
        "        arctan_sum += term\n",
        "    return arctan_sum\n",
        "\n",
        "def calculate_pi_taylor(terms):\n",
        "    pi_approx = 4 * (4 * arctan_taylor(1/5, terms) - arctan_taylor(1/239, terms))\n",
        "    return pi_approx\n",
        "\n",
        "def find_required_terms(precision):\n",
        "    true_pi = math.pi\n",
        "    terms = 1\n",
        "    while True:\n",
        "        pi_approx = calculate_pi_taylor(terms)\n",
        "        if abs(pi_approx - true_pi) < precision:\n",
        "            break\n",
        "        terms += 1\n",
        "    return terms\n",
        "\n",
        "def main():\n",
        "    precision = 1e-3\n",
        "    required_terms = find_required_terms(precision)\n",
        "    print(f\"Se necesitan al menos {required_terms} términos para aproximar π dentro de {precision}.\")\n",
        "\n",
        "    pi_approx = calculate_pi_taylor(required_terms)\n",
        "    print(f\"π aproximado con {required_terms} términos: {pi_approx}\")\n",
        "    print(f\"Diferencia con el valor real de π: {abs(math.pi - pi_approx)}\")\n",
        "\n",
        "if __name__ == \"__main__\":\n",
        "    main()"
      ]
    }
  ]
}