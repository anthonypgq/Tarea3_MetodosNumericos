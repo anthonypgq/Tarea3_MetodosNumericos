{
  "nbformat": 4,
  "nbformat_minor": 0,
  "metadata": {
    "colab": {
      "provenance": []
    },
    "kernelspec": {
      "name": "python3",
      "display_name": "Python 3"
    },
    "language_info": {
      "name": "python"
    }
  },
  "cells": [
    {
      "cell_type": "code",
      "execution_count": 6,
      "metadata": {
        "colab": {
          "base_uri": "https://localhost:8080/"
        },
        "id": "7eEPrN9itlkh",
        "outputId": "4527d0b1-ada7-49bd-9891-5092bb077b9e"
      },
      "outputs": [
        {
          "output_type": "stream",
          "name": "stdout",
          "text": [
            "Suma ascendente:  1.549\n",
            "Suma descendente:  1.549\n"
          ]
        }
      ],
      "source": [
        "def sumatoria():\n",
        "  suma1 = 0\n",
        "  suma2 = 0\n",
        "\n",
        "  for i in range(1, 11):\n",
        "    suma1 += round(1/i**2, 3)\n",
        "  print('Suma ascendente: ',round(suma1, 3))\n",
        "\n",
        "  for i in range(10, 0, -1):\n",
        "    suma2 += round(1/i**2, 3)\n",
        "\n",
        "  print('Suma descendente: ', round(suma2, 3))\n",
        "\n",
        "sumatoria()\n"
      ]
    },
    {
      "cell_type": "code",
      "source": [
        "def sumatoria2():\n",
        "  suma1 = 0\n",
        "  suma2 = 0\n",
        "  for i in range(1, 11):\n",
        "    suma1 += round(1/i**3, 3)\n",
        "  print('Suma ascendente: ', round(suma1, 3))\n",
        "\n",
        "  for i in range(10, 0, -1):\n",
        "    suma2 += round(1/i**3, 3)\n",
        "  print('Suma descendente: ', round(suma2, 3))\n",
        "\n",
        "sumatoria2()"
      ],
      "metadata": {
        "colab": {
          "base_uri": "https://localhost:8080/"
        },
        "id": "38Iox5tw4Rt-",
        "outputId": "835a3397-dee3-450c-b4a2-d4a8cf21aac9"
      },
      "execution_count": 3,
      "outputs": [
        {
          "output_type": "stream",
          "name": "stdout",
          "text": [
            "Suma ascendente:  1.198\n",
            "Suma descendente:  1.198\n"
          ]
        }
      ]
    }
  ]
}